{
  "nbformat": 4,
  "nbformat_minor": 0,
  "metadata": {
    "colab": {
      "provenance": []
    },
    "kernelspec": {
      "name": "python3",
      "display_name": "Python 3"
    },
    "language_info": {
      "name": "python"
    }
  },
  "cells": [
    {
      "cell_type": "markdown",
      "source": [
        "**ASSIGNMENT 4 - SMS SPAM CLASSIFICATION**"
      ],
      "metadata": {
        "id": "zchUan3cPcCA"
      }
    },
    {
      "cell_type": "markdown",
      "source": [
        "**Import Required Library**"
      ],
      "metadata": {
        "id": "BEKD09SOIAxU"
      }
    },
    {
      "cell_type": "code",
      "source": [
        "from google.colab import drive\n",
        "drive.mount('/content/drive')"
      ],
      "metadata": {
        "colab": {
          "base_uri": "https://localhost:8080/"
        },
        "id": "N9m_aseAAgn1",
        "outputId": "12c52554-09ce-4dd1-cc69-be5698c64ebf"
      },
      "execution_count": 1,
      "outputs": [
        {
          "output_type": "stream",
          "name": "stdout",
          "text": [
            "Mounted at /content/drive\n"
          ]
        }
      ]
    },
    {
      "cell_type": "code",
      "execution_count": 2,
      "metadata": {
        "id": "uDBYwGIt_ziB"
      },
      "outputs": [],
      "source": [
        "import pandas as pd\n",
        "import numpy as np\n",
        "import matplotlib.pyplot as plt\n",
        "from sklearn.model_selection import train_test_split\n",
        "from sklearn.preprocessing import LabelEncoder\n",
        "from keras.models import Model\n",
        "from keras.layers import LSTM, Activation, Dense, Dropout, Input, Embedding\n",
        "from keras.optimizers import Adam\n",
        "from keras.preprocessing.text import Tokenizer\n",
        "from keras.preprocessing import sequence\n",
        "from keras.utils import pad_sequences\n",
        "from keras.utils import to_categorical\n",
        "from keras.callbacks import EarlyStopping"
      ]
    },
    {
      "cell_type": "markdown",
      "source": [
        "**Read The Dataset**"
      ],
      "metadata": {
        "id": "dGn05kQiJZWS"
      }
    },
    {
      "cell_type": "code",
      "source": [
        "df = pd.read_csv('/content/drive/MyDrive/spam.csv',delimiter=',',encoding='latin-1')\n",
        "df.head()"
      ],
      "metadata": {
        "colab": {
          "base_uri": "https://localhost:8080/",
          "height": 206
        },
        "id": "iEon8d33JV7h",
        "outputId": "36dc2795-1600-48ae-af99-53a337a437e7"
      },
      "execution_count": 3,
      "outputs": [
        {
          "output_type": "execute_result",
          "data": {
            "text/plain": [
              "     v1                                                 v2 Unnamed: 2  \\\n",
              "0   ham  Go until jurong point, crazy.. Available only ...        NaN   \n",
              "1   ham                      Ok lar... Joking wif u oni...        NaN   \n",
              "2  spam  Free entry in 2 a wkly comp to win FA Cup fina...        NaN   \n",
              "3   ham  U dun say so early hor... U c already then say...        NaN   \n",
              "4   ham  Nah I don't think he goes to usf, he lives aro...        NaN   \n",
              "\n",
              "  Unnamed: 3 Unnamed: 4  \n",
              "0        NaN        NaN  \n",
              "1        NaN        NaN  \n",
              "2        NaN        NaN  \n",
              "3        NaN        NaN  \n",
              "4        NaN        NaN  "
            ],
            "text/html": [
              "\n",
              "  <div id=\"df-51b4987c-6c22-4b09-93d3-14f221c64177\">\n",
              "    <div class=\"colab-df-container\">\n",
              "      <div>\n",
              "<style scoped>\n",
              "    .dataframe tbody tr th:only-of-type {\n",
              "        vertical-align: middle;\n",
              "    }\n",
              "\n",
              "    .dataframe tbody tr th {\n",
              "        vertical-align: top;\n",
              "    }\n",
              "\n",
              "    .dataframe thead th {\n",
              "        text-align: right;\n",
              "    }\n",
              "</style>\n",
              "<table border=\"1\" class=\"dataframe\">\n",
              "  <thead>\n",
              "    <tr style=\"text-align: right;\">\n",
              "      <th></th>\n",
              "      <th>v1</th>\n",
              "      <th>v2</th>\n",
              "      <th>Unnamed: 2</th>\n",
              "      <th>Unnamed: 3</th>\n",
              "      <th>Unnamed: 4</th>\n",
              "    </tr>\n",
              "  </thead>\n",
              "  <tbody>\n",
              "    <tr>\n",
              "      <th>0</th>\n",
              "      <td>ham</td>\n",
              "      <td>Go until jurong point, crazy.. Available only ...</td>\n",
              "      <td>NaN</td>\n",
              "      <td>NaN</td>\n",
              "      <td>NaN</td>\n",
              "    </tr>\n",
              "    <tr>\n",
              "      <th>1</th>\n",
              "      <td>ham</td>\n",
              "      <td>Ok lar... Joking wif u oni...</td>\n",
              "      <td>NaN</td>\n",
              "      <td>NaN</td>\n",
              "      <td>NaN</td>\n",
              "    </tr>\n",
              "    <tr>\n",
              "      <th>2</th>\n",
              "      <td>spam</td>\n",
              "      <td>Free entry in 2 a wkly comp to win FA Cup fina...</td>\n",
              "      <td>NaN</td>\n",
              "      <td>NaN</td>\n",
              "      <td>NaN</td>\n",
              "    </tr>\n",
              "    <tr>\n",
              "      <th>3</th>\n",
              "      <td>ham</td>\n",
              "      <td>U dun say so early hor... U c already then say...</td>\n",
              "      <td>NaN</td>\n",
              "      <td>NaN</td>\n",
              "      <td>NaN</td>\n",
              "    </tr>\n",
              "    <tr>\n",
              "      <th>4</th>\n",
              "      <td>ham</td>\n",
              "      <td>Nah I don't think he goes to usf, he lives aro...</td>\n",
              "      <td>NaN</td>\n",
              "      <td>NaN</td>\n",
              "      <td>NaN</td>\n",
              "    </tr>\n",
              "  </tbody>\n",
              "</table>\n",
              "</div>\n",
              "      <button class=\"colab-df-convert\" onclick=\"convertToInteractive('df-51b4987c-6c22-4b09-93d3-14f221c64177')\"\n",
              "              title=\"Convert this dataframe to an interactive table.\"\n",
              "              style=\"display:none;\">\n",
              "        \n",
              "  <svg xmlns=\"http://www.w3.org/2000/svg\" height=\"24px\"viewBox=\"0 0 24 24\"\n",
              "       width=\"24px\">\n",
              "    <path d=\"M0 0h24v24H0V0z\" fill=\"none\"/>\n",
              "    <path d=\"M18.56 5.44l.94 2.06.94-2.06 2.06-.94-2.06-.94-.94-2.06-.94 2.06-2.06.94zm-11 1L8.5 8.5l.94-2.06 2.06-.94-2.06-.94L8.5 2.5l-.94 2.06-2.06.94zm10 10l.94 2.06.94-2.06 2.06-.94-2.06-.94-.94-2.06-.94 2.06-2.06.94z\"/><path d=\"M17.41 7.96l-1.37-1.37c-.4-.4-.92-.59-1.43-.59-.52 0-1.04.2-1.43.59L10.3 9.45l-7.72 7.72c-.78.78-.78 2.05 0 2.83L4 21.41c.39.39.9.59 1.41.59.51 0 1.02-.2 1.41-.59l7.78-7.78 2.81-2.81c.8-.78.8-2.07 0-2.86zM5.41 20L4 18.59l7.72-7.72 1.47 1.35L5.41 20z\"/>\n",
              "  </svg>\n",
              "      </button>\n",
              "      \n",
              "  <style>\n",
              "    .colab-df-container {\n",
              "      display:flex;\n",
              "      flex-wrap:wrap;\n",
              "      gap: 12px;\n",
              "    }\n",
              "\n",
              "    .colab-df-convert {\n",
              "      background-color: #E8F0FE;\n",
              "      border: none;\n",
              "      border-radius: 50%;\n",
              "      cursor: pointer;\n",
              "      display: none;\n",
              "      fill: #1967D2;\n",
              "      height: 32px;\n",
              "      padding: 0 0 0 0;\n",
              "      width: 32px;\n",
              "    }\n",
              "\n",
              "    .colab-df-convert:hover {\n",
              "      background-color: #E2EBFA;\n",
              "      box-shadow: 0px 1px 2px rgba(60, 64, 67, 0.3), 0px 1px 3px 1px rgba(60, 64, 67, 0.15);\n",
              "      fill: #174EA6;\n",
              "    }\n",
              "\n",
              "    [theme=dark] .colab-df-convert {\n",
              "      background-color: #3B4455;\n",
              "      fill: #D2E3FC;\n",
              "    }\n",
              "\n",
              "    [theme=dark] .colab-df-convert:hover {\n",
              "      background-color: #434B5C;\n",
              "      box-shadow: 0px 1px 3px 1px rgba(0, 0, 0, 0.15);\n",
              "      filter: drop-shadow(0px 1px 2px rgba(0, 0, 0, 0.3));\n",
              "      fill: #FFFFFF;\n",
              "    }\n",
              "  </style>\n",
              "\n",
              "      <script>\n",
              "        const buttonEl =\n",
              "          document.querySelector('#df-51b4987c-6c22-4b09-93d3-14f221c64177 button.colab-df-convert');\n",
              "        buttonEl.style.display =\n",
              "          google.colab.kernel.accessAllowed ? 'block' : 'none';\n",
              "\n",
              "        async function convertToInteractive(key) {\n",
              "          const element = document.querySelector('#df-51b4987c-6c22-4b09-93d3-14f221c64177');\n",
              "          const dataTable =\n",
              "            await google.colab.kernel.invokeFunction('convertToInteractive',\n",
              "                                                     [key], {});\n",
              "          if (!dataTable) return;\n",
              "\n",
              "          const docLinkHtml = 'Like what you see? Visit the ' +\n",
              "            '<a target=\"_blank\" href=https://colab.research.google.com/notebooks/data_table.ipynb>data table notebook</a>'\n",
              "            + ' to learn more about interactive tables.';\n",
              "          element.innerHTML = '';\n",
              "          dataTable['output_type'] = 'display_data';\n",
              "          await google.colab.output.renderOutput(dataTable, element);\n",
              "          const docLink = document.createElement('div');\n",
              "          docLink.innerHTML = docLinkHtml;\n",
              "          element.appendChild(docLink);\n",
              "        }\n",
              "      </script>\n",
              "    </div>\n",
              "  </div>\n",
              "  "
            ]
          },
          "metadata": {},
          "execution_count": 3
        }
      ]
    },
    {
      "cell_type": "markdown",
      "source": [
        "**Pre-processing The Dataset**"
      ],
      "metadata": {
        "id": "ewlbcTlgJqUG"
      }
    },
    {
      "cell_type": "code",
      "source": [
        "df.drop(['Unnamed: 2', 'Unnamed: 3', 'Unnamed: 4'],axis=1,inplace=True)\n",
        "from wordcloud import WordCloud, STOPWORDS, ImageColorGenerator\n",
        "X = df.v2\n",
        "Y = df.v1\n",
        "le = LabelEncoder()\n",
        "Y = le.fit_transform(Y)\n",
        "Y = Y.reshape(-1,1)\n",
        "X_train,X_test,Y_train,Y_test = train_test_split(X,Y,test_size=0.25)\n",
        "max_words = 1000\n",
        "max_len = 150\n",
        "tok = Tokenizer(num_words=max_words)\n",
        "tok.fit_on_texts(X_train)\n",
        "sequences = tok.texts_to_sequences(X_train)\n",
        "sequences_matrix = pad_sequences(sequences,maxlen=max_len)"
      ],
      "metadata": {
        "id": "fnxzHAKOJjdq"
      },
      "execution_count": 4,
      "outputs": []
    },
    {
      "cell_type": "markdown",
      "source": [
        "**Create Model**"
      ],
      "metadata": {
        "id": "gpqoEC6dJ29M"
      }
    },
    {
      "cell_type": "code",
      "source": [
        "inputs = Input(shape=[max_len])\n",
        "layer = Embedding(max_words,50,input_length=max_len)(inputs)"
      ],
      "metadata": {
        "id": "x-9XzYQcJzqQ"
      },
      "execution_count": 5,
      "outputs": []
    },
    {
      "cell_type": "markdown",
      "source": [
        "**Add Layers**"
      ],
      "metadata": {
        "id": "6y-KEJw2J-Y6"
      }
    },
    {
      "cell_type": "code",
      "source": [
        "layer = LSTM(128)(layer)\n",
        "layer = Dense(128)(layer)\n",
        "layer = Activation('relu')(layer)\n",
        "layer = Dropout(0.5)(layer)\n",
        "layer = Dense(1.5)(layer)\n",
        "layer = Activation('sigmoid')(layer)\n",
        "model = Model(inputs=inputs,outputs=layer)"
      ],
      "metadata": {
        "id": "GIOkM8q6J90F"
      },
      "execution_count": 6,
      "outputs": []
    },
    {
      "cell_type": "code",
      "source": [
        "model.summary()"
      ],
      "metadata": {
        "colab": {
          "base_uri": "https://localhost:8080/"
        },
        "id": "PKrdfsdsKJnQ",
        "outputId": "b81932cc-f812-4da7-ace3-87e124cd599b"
      },
      "execution_count": 7,
      "outputs": [
        {
          "output_type": "stream",
          "name": "stdout",
          "text": [
            "Model: \"model\"\n",
            "_________________________________________________________________\n",
            " Layer (type)                Output Shape              Param #   \n",
            "=================================================================\n",
            " input_1 (InputLayer)        [(None, 150)]             0         \n",
            "                                                                 \n",
            " embedding (Embedding)       (None, 150, 50)           50000     \n",
            "                                                                 \n",
            " lstm (LSTM)                 (None, 128)               91648     \n",
            "                                                                 \n",
            " dense (Dense)               (None, 128)               16512     \n",
            "                                                                 \n",
            " activation (Activation)     (None, 128)               0         \n",
            "                                                                 \n",
            " dropout (Dropout)           (None, 128)               0         \n",
            "                                                                 \n",
            " dense_1 (Dense)             (None, 1)                 129       \n",
            "                                                                 \n",
            " activation_1 (Activation)   (None, 1)                 0         \n",
            "                                                                 \n",
            "=================================================================\n",
            "Total params: 158,289\n",
            "Trainable params: 158,289\n",
            "Non-trainable params: 0\n",
            "_________________________________________________________________\n"
          ]
        }
      ]
    },
    {
      "cell_type": "markdown",
      "source": [
        "**Compile the Model**"
      ],
      "metadata": {
        "id": "b9ZH1TbaKRu4"
      }
    },
    {
      "cell_type": "code",
      "source": [
        "model.compile(loss='binary_crossentropy',optimizer=Adam(),metrics=['accuracy'])"
      ],
      "metadata": {
        "id": "q3MFMuNPKOJH"
      },
      "execution_count": 8,
      "outputs": []
    },
    {
      "cell_type": "markdown",
      "source": [
        "**Fit the Model**"
      ],
      "metadata": {
        "id": "_4LRFErUKZNz"
      }
    },
    {
      "cell_type": "code",
      "source": [
        "history = model.fit(sequences_matrix,Y_train,batch_size=20,epochs=15,validation_split=0.2)"
      ],
      "metadata": {
        "colab": {
          "base_uri": "https://localhost:8080/"
        },
        "id": "C4IxWtV3KmoF",
        "outputId": "476471e9-ac7d-4ca3-a3f3-a1d8277891b5"
      },
      "execution_count": 10,
      "outputs": [
        {
          "output_type": "stream",
          "name": "stdout",
          "text": [
            "Epoch 1/15\n",
            "168/168 [==============================] - 30s 179ms/step - loss: 1.9784e-04 - accuracy: 1.0000 - val_loss: 0.1241 - val_accuracy: 0.9833\n",
            "Epoch 2/15\n",
            "168/168 [==============================] - 30s 178ms/step - loss: 7.6148e-05 - accuracy: 1.0000 - val_loss: 0.1285 - val_accuracy: 0.9833\n",
            "Epoch 3/15\n",
            "168/168 [==============================] - 30s 178ms/step - loss: 1.0422e-04 - accuracy: 1.0000 - val_loss: 0.1326 - val_accuracy: 0.9833\n",
            "Epoch 4/15\n",
            "168/168 [==============================] - 30s 180ms/step - loss: 5.7407e-05 - accuracy: 1.0000 - val_loss: 0.1380 - val_accuracy: 0.9833\n",
            "Epoch 5/15\n",
            "168/168 [==============================] - 30s 178ms/step - loss: 4.1669e-05 - accuracy: 1.0000 - val_loss: 0.1413 - val_accuracy: 0.9844\n",
            "Epoch 6/15\n",
            "168/168 [==============================] - 32s 189ms/step - loss: 2.7745e-05 - accuracy: 1.0000 - val_loss: 0.1441 - val_accuracy: 0.9844\n",
            "Epoch 7/15\n",
            "168/168 [==============================] - 30s 177ms/step - loss: 3.0943e-05 - accuracy: 1.0000 - val_loss: 0.1474 - val_accuracy: 0.9844\n",
            "Epoch 8/15\n",
            "168/168 [==============================] - 30s 179ms/step - loss: 2.9743e-05 - accuracy: 1.0000 - val_loss: 0.1513 - val_accuracy: 0.9844\n",
            "Epoch 9/15\n",
            "168/168 [==============================] - 30s 179ms/step - loss: 1.8828e-05 - accuracy: 1.0000 - val_loss: 0.1542 - val_accuracy: 0.9844\n",
            "Epoch 10/15\n",
            "168/168 [==============================] - 30s 178ms/step - loss: 1.9181e-05 - accuracy: 1.0000 - val_loss: 0.1578 - val_accuracy: 0.9856\n",
            "Epoch 11/15\n",
            "168/168 [==============================] - 30s 179ms/step - loss: 1.2872e-05 - accuracy: 1.0000 - val_loss: 0.1602 - val_accuracy: 0.9844\n",
            "Epoch 12/15\n",
            "168/168 [==============================] - 30s 179ms/step - loss: 1.0606e-05 - accuracy: 1.0000 - val_loss: 0.1622 - val_accuracy: 0.9844\n",
            "Epoch 13/15\n",
            "168/168 [==============================] - 30s 180ms/step - loss: 8.1765e-06 - accuracy: 1.0000 - val_loss: 0.1651 - val_accuracy: 0.9856\n",
            "Epoch 14/15\n",
            "168/168 [==============================] - 32s 192ms/step - loss: 9.3222e-06 - accuracy: 1.0000 - val_loss: 0.1679 - val_accuracy: 0.9856\n",
            "Epoch 15/15\n",
            "168/168 [==============================] - 30s 181ms/step - loss: 7.0602e-06 - accuracy: 1.0000 - val_loss: 0.1712 - val_accuracy: 0.9856\n"
          ]
        }
      ]
    },
    {
      "cell_type": "code",
      "source": [
        "metrics = pd.DataFrame(history.history)\n",
        "metrics.rename(columns = {'loss': 'Training_Loss', 'accuracy': 'Training_Accuracy', 'val_loss': 'Validation_Loss', 'val_accuracy': 'Validation_Accuracy'}, inplace = True)\n",
        "def plot_graphs1(var1, var2, string):\n",
        "  metrics[[var1, var2]].plot()\n",
        "  plt.title('Training and Validation ' + string)\n",
        "  plt.xlabel ('Number of epochs')\n",
        "  plt.ylabel(string)\n",
        "  plt.legend([var1, var2])"
      ],
      "metadata": {
        "id": "xQu-XeUjOAgx"
      },
      "execution_count": 11,
      "outputs": []
    },
    {
      "cell_type": "code",
      "source": [
        "plot_graphs1('Training_Accuracy', 'Validation_Accuracy', 'accuracy')"
      ],
      "metadata": {
        "colab": {
          "base_uri": "https://localhost:8080/",
          "height": 295
        },
        "id": "9GbI5h_CONCC",
        "outputId": "fd0de84f-2af7-49ba-e6bd-1d950df3ed4a"
      },
      "execution_count": 17,
      "outputs": [
        {
          "output_type": "display_data",
          "data": {
            "text/plain": [
              "<Figure size 432x288 with 1 Axes>"
            ],
            "image/png": "[encoded data removed]"
          },
          "metadata": {
            "needs_background": "light"
          }
        }
      ]
    },
    {
      "cell_type": "markdown",
      "source": [
        "**Save The Model**"
      ],
      "metadata": {
        "id": "VQc7hyS6OZJQ"
      }
    },
    {
      "cell_type": "code",
      "source": [
        "model.save('Spam_sms_classifier.h5')"
      ],
      "metadata": {
        "id": "IE4myw8EOTHF"
      },
      "execution_count": 13,
      "outputs": []
    },
    {
      "cell_type": "markdown",
      "source": [
        "**Test The Model**"
      ],
      "metadata": {
        "id": "P8oEUnHcOhso"
      }
    },
    {
      "cell_type": "code",
      "source": [
        "test_sequences = tok.texts_to_sequences(X_test)\n",
        "test_sequences_matrix = pad_sequences(test_sequences,maxlen=max_len)"
      ],
      "metadata": {
        "id": "0C8hEhrgOqsQ"
      },
      "execution_count": 14,
      "outputs": []
    },
    {
      "cell_type": "code",
      "source": [
        "accuracy1 = model.evaluate(test_sequences_matrix,Y_test)"
      ],
      "metadata": {
        "colab": {
          "base_uri": "https://localhost:8080/"
        },
        "id": "X_b_aAEvOuxq",
        "outputId": "e6db98ba-f2cb-487b-cc9c-158703aebe58"
      },
      "execution_count": 15,
      "outputs": [
        {
          "output_type": "stream",
          "name": "stdout",
          "text": [
            "44/44 [==============================] - 5s 106ms/step - loss: 0.2506 - accuracy: 0.9799\n"
          ]
        }
      ]
    },
    {
      "cell_type": "code",
      "source": [
        "print(' Accuracy: {:0.5f}'.format(accuracy1[0],accuracy1[1]))"
      ],
      "metadata": {
        "colab": {
          "base_uri": "https://localhost:8080/"
        },
        "id": "AHjSKgPrO1El",
        "outputId": "12f53a3c-68c8-4996-896b-35f88430d140"
      },
      "execution_count": 16,
      "outputs": [
        {
          "output_type": "stream",
          "name": "stdout",
          "text": [
            " Accuracy: 0.25058\n"
          ]
        }
      ]
    }
  ]
}